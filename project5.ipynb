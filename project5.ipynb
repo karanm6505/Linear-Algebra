{
 "cells": [
  {
   "cell_type": "code",
   "execution_count": 1,
   "metadata": {},
   "outputs": [
    {
     "name": "stdout",
     "output_type": "stream",
     "text": [
      "Rankings:\n",
      "1. Team F: 90071992547409904.00\n",
      "2. Team G: 90071992547409904.00\n",
      "3. Team H: 90071992547409904.00\n",
      "4. Team I: 90071992547409904.00\n",
      "5. Team A: 90071992547409888.00\n",
      "6. Team B: 90071992547409888.00\n",
      "7. Team C: 90071992547409888.00\n",
      "8. Team D: 90071992547409888.00\n",
      "9. Team E: 90071992547409888.00\n",
      "10. Team J: 90071992547409888.00\n"
     ]
    }
   ],
   "source": []
  },
  {
   "cell_type": "code",
   "execution_count": null,
   "metadata": {},
   "outputs": [],
   "source": []
  }
 ],
 "metadata": {
  "kernelspec": {
   "display_name": "Python 3",
   "language": "python",
   "name": "python3"
  },
  "language_info": {
   "codemirror_mode": {
    "name": "ipython",
    "version": 3
   },
   "file_extension": ".py",
   "mimetype": "text/x-python",
   "name": "python",
   "nbconvert_exporter": "python",
   "pygments_lexer": "ipython3",
   "version": "3.11.5"
  }
 },
 "nbformat": 4,
 "nbformat_minor": 2
}
